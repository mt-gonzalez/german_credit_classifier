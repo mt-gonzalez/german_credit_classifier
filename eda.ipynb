{
 "cells": [
  {
   "cell_type": "markdown",
   "metadata": {},
   "source": [
    "# Exploratory Data Analysis \n",
    "First I will explore the dataset to gain an insight which will help to define the next steps"
   ]
  },
  {
   "cell_type": "code",
   "execution_count": 11,
   "metadata": {},
   "outputs": [
    {
     "data": {
      "text/plain": [
       "<bound method NDFrame.head of      A11   6  A34  A43  1169  A65  A75  4  A93  A101  ...  A121  67  A143  \\\n",
       "0    A12  48  A32  A43  5951  A61  A73  2  A92  A101  ...  A121  22  A143   \n",
       "1    A14  12  A34  A46  2096  A61  A74  2  A93  A101  ...  A121  49  A143   \n",
       "2    A11  42  A32  A42  7882  A61  A74  2  A93  A103  ...  A122  45  A143   \n",
       "3    A11  24  A33  A40  4870  A61  A73  3  A93  A101  ...  A124  53  A143   \n",
       "4    A14  36  A32  A46  9055  A65  A73  2  A93  A101  ...  A124  35  A143   \n",
       "..   ...  ..  ...  ...   ...  ...  ... ..  ...   ...  ...   ...  ..   ...   \n",
       "994  A14  12  A32  A42  1736  A61  A74  3  A92  A101  ...  A121  31  A143   \n",
       "995  A11  30  A32  A41  3857  A61  A73  4  A91  A101  ...  A122  40  A143   \n",
       "996  A14  12  A32  A43   804  A61  A75  4  A93  A101  ...  A123  38  A143   \n",
       "997  A11  45  A32  A43  1845  A61  A73  4  A93  A101  ...  A124  23  A143   \n",
       "998  A12  45  A34  A41  4576  A62  A71  3  A93  A101  ...  A123  27  A143   \n",
       "\n",
       "     A152  2  A173  1  A192  A201 1.1  \n",
       "0    A152  1  A173  1  A191  A201   2  \n",
       "1    A152  1  A172  2  A191  A201   1  \n",
       "2    A153  1  A173  2  A191  A201   1  \n",
       "3    A153  2  A173  2  A191  A201   2  \n",
       "4    A153  1  A172  2  A192  A201   1  \n",
       "..    ... ..   ... ..   ...   ...  ..  \n",
       "994  A152  1  A172  1  A191  A201   1  \n",
       "995  A152  1  A174  1  A192  A201   1  \n",
       "996  A152  1  A173  1  A191  A201   1  \n",
       "997  A153  1  A173  1  A192  A201   2  \n",
       "998  A152  1  A173  1  A191  A201   1  \n",
       "\n",
       "[999 rows x 21 columns]>"
      ]
     },
     "execution_count": 11,
     "metadata": {},
     "output_type": "execute_result"
    }
   ],
   "source": [
    "import pandas as pd\n",
    "import matplotlib\n",
    "import matplotlib.pyplot as plt\n",
    "\n",
    "df = pd.read_csv(\"data/raw.csv\", sep=\" \") # The file use space to separate columns\n",
    "df.head"
   ]
  },
  {
   "cell_type": "code",
   "execution_count": 10,
   "metadata": {},
   "outputs": [
    {
     "name": "stdout",
     "output_type": "stream",
     "text": [
      "['A11', '6', 'A34', 'A43', '1169', 'A65', 'A75', '4', 'A93', 'A101', '4.1', 'A121', '67', 'A143', 'A152', '2', 'A173', '1', 'A192', 'A201', '1.1']\n"
     ]
    }
   ],
   "source": [
    "print(list(df.columns))"
   ]
  },
  {
   "cell_type": "markdown",
   "metadata": {},
   "source": [
    "The columns names are not defined in the csv file, so we change them in the file reading function"
   ]
  },
  {
   "cell_type": "code",
   "execution_count": 13,
   "metadata": {},
   "outputs": [
    {
     "name": "stdout",
     "output_type": "stream",
     "text": [
      "['Status', 'Duration', 'History', 'Purpose', 'Amount', 'Savings', 'Employment', 'Installment_Rate', 'Personal_Status', 'Other_Debtors', 'Residence_Years', 'Property', 'Age', 'Other_Installments', 'Housing', 'Existing_Credits', 'Job', 'Num_People_Liable', 'Telephone', 'Foreign_Worker', 'Target']\n"
     ]
    },
    {
     "data": {
      "text/plain": [
       "<bound method NDFrame.head of     Status  Duration History Purpose  Amount Savings Employment  \\\n",
       "0      A11         6     A34     A43    1169     A65        A75   \n",
       "1      A12        48     A32     A43    5951     A61        A73   \n",
       "2      A14        12     A34     A46    2096     A61        A74   \n",
       "3      A11        42     A32     A42    7882     A61        A74   \n",
       "4      A11        24     A33     A40    4870     A61        A73   \n",
       "..     ...       ...     ...     ...     ...     ...        ...   \n",
       "995    A14        12     A32     A42    1736     A61        A74   \n",
       "996    A11        30     A32     A41    3857     A61        A73   \n",
       "997    A14        12     A32     A43     804     A61        A75   \n",
       "998    A11        45     A32     A43    1845     A61        A73   \n",
       "999    A12        45     A34     A41    4576     A62        A71   \n",
       "\n",
       "     Installment_Rate Personal_Status Other_Debtors  ...  Property Age  \\\n",
       "0                   4             A93          A101  ...      A121  67   \n",
       "1                   2             A92          A101  ...      A121  22   \n",
       "2                   2             A93          A101  ...      A121  49   \n",
       "3                   2             A93          A103  ...      A122  45   \n",
       "4                   3             A93          A101  ...      A124  53   \n",
       "..                ...             ...           ...  ...       ...  ..   \n",
       "995                 3             A92          A101  ...      A121  31   \n",
       "996                 4             A91          A101  ...      A122  40   \n",
       "997                 4             A93          A101  ...      A123  38   \n",
       "998                 4             A93          A101  ...      A124  23   \n",
       "999                 3             A93          A101  ...      A123  27   \n",
       "\n",
       "     Other_Installments Housing Existing_Credits   Job Num_People_Liable  \\\n",
       "0                  A143    A152                2  A173                 1   \n",
       "1                  A143    A152                1  A173                 1   \n",
       "2                  A143    A152                1  A172                 2   \n",
       "3                  A143    A153                1  A173                 2   \n",
       "4                  A143    A153                2  A173                 2   \n",
       "..                  ...     ...              ...   ...               ...   \n",
       "995                A143    A152                1  A172                 1   \n",
       "996                A143    A152                1  A174                 1   \n",
       "997                A143    A152                1  A173                 1   \n",
       "998                A143    A153                1  A173                 1   \n",
       "999                A143    A152                1  A173                 1   \n",
       "\n",
       "     Telephone Foreign_Worker Target  \n",
       "0         A192           A201      1  \n",
       "1         A191           A201      2  \n",
       "2         A191           A201      1  \n",
       "3         A191           A201      1  \n",
       "4         A191           A201      2  \n",
       "..         ...            ...    ...  \n",
       "995       A191           A201      1  \n",
       "996       A192           A201      1  \n",
       "997       A191           A201      1  \n",
       "998       A192           A201      2  \n",
       "999       A191           A201      1  \n",
       "\n",
       "[1000 rows x 21 columns]>"
      ]
     },
     "execution_count": 13,
     "metadata": {},
     "output_type": "execute_result"
    }
   ],
   "source": [
    "columns_names = [\"Status\", \"Duration\", \"History\", \"Purpose\", \"Amount\", \"Savings\", \"Employment\", \"Installment_Rate\", \n",
    "                 \"Personal_Status\", \"Other_Debtors\", \"Residence_Years\", \"Property\", \"Age\", \"Other_Installments\", \"Housing\",\n",
    "                 \"Existing_Credits\", \"Job\", \"Num_People_Liable\", \"Telephone\", \"Foreign_Worker\", \"Target\"]\n",
    "\n",
    "df = pd.read_csv(\"data/raw.csv\", sep=\" \", header=None, names=columns_names)\n",
    "print(list(df.columns))\n",
    "df.head"
   ]
  }
 ],
 "metadata": {
  "kernelspec": {
   "display_name": "german_credit_classification",
   "language": "python",
   "name": "python3"
  },
  "language_info": {
   "codemirror_mode": {
    "name": "ipython",
    "version": 3
   },
   "file_extension": ".py",
   "mimetype": "text/x-python",
   "name": "python",
   "nbconvert_exporter": "python",
   "pygments_lexer": "ipython3",
   "version": "3.12.7"
  }
 },
 "nbformat": 4,
 "nbformat_minor": 2
}
